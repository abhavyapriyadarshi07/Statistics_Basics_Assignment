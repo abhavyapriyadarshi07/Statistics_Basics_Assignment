{
  "nbformat": 4,
  "nbformat_minor": 0,
  "metadata": {
    "colab": {
      "provenance": []
    },
    "kernelspec": {
      "name": "python3",
      "display_name": "Python 3"
    },
    "language_info": {
      "name": "python"
    }
  },
  "cells": [
    {
      "cell_type": "markdown",
      "source": [
        "#Theory Questions\n",
        "---"
      ],
      "metadata": {
        "id": "SsSP18PMl61g"
      }
    },
    {
      "cell_type": "markdown",
      "source": [
        "1.What is statistics, and why is it important?\n",
        "\n",
        "Ans: Statistics is the science of collecting, analyzing, interpreting, and presenting data. It is important because it enables informed decision-making by helping understand data patterns, test hypotheses, and predict future trends."
      ],
      "metadata": {
        "id": "i6YMJeAkmBRX"
      }
    },
    {
      "cell_type": "markdown",
      "source": [
        "2.What are the two main types of statistics?\n",
        "\n",
        "Ans:The two main types of statistics are Descriptive statistics and Inferential statistics."
      ],
      "metadata": {
        "id": "NpJOalcio3bg"
      }
    },
    {
      "cell_type": "markdown",
      "source": [
        "3.What are descriptive statistics?\n",
        "\n",
        "Ans:Descriptive statistics summarize and describe the main features of a dataset, such as measures of central tendency (mean, median, mode), dispersion (range, variance, standard deviation), and data visualization."
      ],
      "metadata": {
        "id": "8GsemTEKo-S3"
      }
    },
    {
      "cell_type": "markdown",
      "source": [
        "4.What is inferential statistics?\n",
        "\n",
        "Ans: Inferential statistics involves using a sample of data to make generalizations, predictions, or decisions about a larger population through hypothesis testing, estimation, and modeling."
      ],
      "metadata": {
        "id": "HKB_ctqspHp_"
      }
    },
    {
      "cell_type": "markdown",
      "source": [
        "5.What is sampling in statistics?\n",
        "\n",
        "Ans: Sampling is the process of selecting a subset of individuals or observations from a larger population to analyze and make inferences about the whole population."
      ],
      "metadata": {
        "id": "zoYeJt-6pNqZ"
      }
    },
    {
      "cell_type": "markdown",
      "source": [
        "6.What are the different types of sampling methods?\n",
        "\n",
        "Ans: There are six main types of sampling methods in statistics, broadly categorized into probability sampling and non-probability sampling.\n",
        "\n",
        "1. Probability Sampling Methods\n",
        "\n",
        "Each member of the population has a known, non-zero chance of being selected.\n",
        "\n",
        "a) Simple Random Sampling\n",
        "\n",
        "Every individual has an equal chance of being selected.\n",
        "\n",
        "Example: Randomly picking names from a hat.\n",
        "\n",
        "b) Stratified Sampling\n",
        "\n",
        "Population is divided into strata (groups) based on a characteristic (e.g., gender, age).\n",
        "\n",
        "Then a random sample is taken from each stratum.\n",
        "\n",
        "Example: Sampling 50 males and 50 females from a class of 100 males and 100 females.\n",
        "\n",
        "c) Systematic Sampling\n",
        "\n",
        "Every k-th element from a list is selected after a random starting point.\n",
        "\n",
        "Example: Picking every 10th student from an alphabetical list.\n",
        "\n",
        "d) Cluster Sampling\n",
        "\n",
        "Population is divided into clusters (e.g., schools, cities), and entire clusters are randomly selected.\n",
        "\n",
        "Example: Randomly choosing 3 schools and surveying all students in them.\n",
        "\n",
        "\n",
        "2. Non-Probability Sampling Methods\n",
        "Not all individuals have a known or equal chance of being selected.\n",
        "\n",
        "a) Convenience Sampling\n",
        "\n",
        "Selecting individuals who are easiest to reach.\n",
        "\n",
        "Example: Surveying your classmates because they’re nearby.\n",
        "\n",
        "b) Quota Sampling\n",
        "\n",
        "Selecting a sample that reflects certain characteristics, but not randomly.\n",
        "\n",
        "Example: Interviewing 50 men and 50 women but choosing them based on availability."
      ],
      "metadata": {
        "id": "Xk314T8GpX9u"
      }
    },
    {
      "cell_type": "markdown",
      "source": [
        "7.What is the difference between random and non-random sampling?\n",
        "\n",
        "Ans: Random sampling gives every member of the population an equal chance of being selected, reducing bias.\n",
        "\n",
        "Characteristics:\n",
        "* Unbiased selection\n",
        "\n",
        "* Representative of the population\n",
        "\n",
        "*  Reduces sampling bias\n",
        "\n",
        "Example:\n",
        "Using a random number generator to select 50 students from a school of 500.\n",
        "\n",
        "Non-random sampling does not use random selection, which may introduce bias and limit representativeness.\n",
        "\n",
        "Characteristics:\n",
        "\n",
        "*  Can be biased\n",
        "\n",
        "*  May not accurately represent the population\n",
        "\n",
        "*  Often used for convenience or specific purposes\n",
        "\n",
        "Example:\n",
        "Interviewing only people standing near the school gate."
      ],
      "metadata": {
        "id": "6zrDoKUCpewX"
      }
    },
    {
      "cell_type": "markdown",
      "source": [
        "8.Define and give examples of qualitative and quantitative data.\n",
        "\n",
        "Ans:\n",
        "\n",
        "Qualitative data describe categories or qualities (e.g., colors, names, labels), such as gender or nationality.\n",
        "\n",
        "Quantitative data represent numerical values or quantities, such as height, weight, or age."
      ],
      "metadata": {
        "id": "cDJYcA5lplSX"
      }
    },
    {
      "cell_type": "markdown",
      "source": [
        "9.What are the different types of data in statistics?\n",
        "\n",
        "Ans: In statistics, data is classified into four main types based on the level of measurement. These types determine what kind of statistical analysis you can perform.\n",
        "\n",
        "Types of Data in Statistics\n",
        "\n",
        "1. Nominal Data (Qualitative)\n",
        "Definition: Data that consists of names, labels, or categories with no logical order.\n",
        "\n",
        "Examples: Gender (Male/Female), Blood Type (A, B, AB, O), Colors (Red, Blue, Green)\n",
        "\n",
        "2. Ordinal Data (Qualitative)\n",
        "Definition: Categorical data with a meaningful order, but no consistent interval between values.\n",
        "\n",
        "\n",
        "Examples: Customer satisfaction (Poor, Fair, Good, Excellent), Education level (Primary, Secondary, Tertiary)\n",
        "\n",
        "3. Interval Data (Quantitative)\n",
        "Definition: Numeric data with equal intervals between values, but no true zero point.\n",
        "\n",
        "\n",
        "Examples: Temperature in Celsius or Fahrenheit, IQ scores, Dates on a calendar\n",
        "\n",
        "4. Ratio Data (Quantitative)\n",
        "Definition: Numeric data with equal intervals and a meaningful zero point.\n",
        "\n",
        "Examples: Height, Weight, Age, Income, Distance\n",
        "\n"
      ],
      "metadata": {
        "id": "ZDetuuNYpt6H"
      }
    },
    {
      "cell_type": "markdown",
      "source": [
        "10.Explain nominal, ordinal, interval, and ratio levels of measurement.\n",
        "\n",
        "Ans:\n",
        "a) Nominal: Categories without order (e.g., blood type,\n",
        "gender).\n",
        "\n",
        "b) Ordinal: Categories with a meaningful order but no fixed intervals (e.g., ranks, satisfaction levels).\n",
        "\n",
        "c) Interval: Ordered categories with equal intervals but no true zero (e.g., temperature in Celsius).\n",
        "\n",
        "d) Ratio: Interval data with a meaningful zero point, allowing for ratios (e.g., weight, height).\n",
        "\n",
        "\n",
        "\n"
      ],
      "metadata": {
        "id": "SPalhUoJp0r_"
      }
    },
    {
      "cell_type": "markdown",
      "source": [
        "11. What is the measure of central tendency?\n",
        "\n",
        "Ans: Measures of central tendency are single values that represent the \"center\" or typical value of a dataset. They give you an idea of where most of the data points cluster."
      ],
      "metadata": {
        "id": "g07KuPTruy7h"
      }
    },
    {
      "cell_type": "markdown",
      "source": [
        "12. Define mean, median, and mode.\n",
        "\n",
        "Ans: These are the most common measures of central tendency:\n",
        "\n",
        "Mean: The average of all numbers in a dataset. You sum all values and divide by the count of values.\n",
        "\n",
        "Median: The middle value in an ordered dataset. If there's an even number of values, it's the average of the two middle values.\n",
        "\n",
        "Mode: The value that appears most frequently in a dataset. A dataset can have one mode, multiple modes, or no mode."
      ],
      "metadata": {
        "id": "lZpOSdUdwG2Y"
      }
    },
    {
      "cell_type": "markdown",
      "source": [
        "13. What is the significance of the measure of central tendency?\n",
        "\n",
        "Ans: They provide a concise summary of the data, help in comparing different datasets, and are often the starting point for more advanced statistical analysis. They give you a quick \"snapshot\" of the typical value."
      ],
      "metadata": {
        "id": "DmSg9m8TwRaQ"
      }
    },
    {
      "cell_type": "markdown",
      "source": [
        "14. What is variance, and how is it calculated?\n",
        "\n",
        "Ans: Variance measures how spread out the data points are from the mean. A high variance means data points are widely dispersed, while a low variance means they are clustered closely around the mean.\n",
        "\n",
        "Calculation (conceptual): You find the difference between each data point and the mean, square those differences, sum them up, and then divide by the number of data points (or n-1 for a sample)."
      ],
      "metadata": {
        "id": "0KG7yzm2wbnw"
      }
    },
    {
      "cell_type": "markdown",
      "source": [
        "15. What is standard deviation, and why is it important?\n",
        "\n",
        "Ans: Standard deviation is the square root of the variance. It's important because it expresses the spread of data in the same units as the original data, making it easier to interpret than variance. It tells you the typical distance a data point is from the mean."
      ],
      "metadata": {
        "id": "HA3QYjZux5s4"
      }
    },
    {
      "cell_type": "markdown",
      "source": [
        "16. Define and explain the term range in statistics.\n",
        "\n",
        "Ans: The range is the simplest measure of spread. It's the difference between the highest and lowest values in a dataset. For example, if test scores range from 50 to 90, the range is 40."
      ],
      "metadata": {
        "id": "GRrLCjfxx-ro"
      }
    },
    {
      "cell_type": "markdown",
      "source": [
        "17. What is the difference between variance and standard deviation?\n",
        "\n",
        "Ans: Both measure spread, but variance is in squared units, making it less intuitive to understand in the context of the original data. Standard deviation is the square root of the variance, putting it back into the original units of measurement, which is generally more interpretable."
      ],
      "metadata": {
        "id": "qSXIGMX2yDwo"
      }
    },
    {
      "cell_type": "markdown",
      "source": [
        "18. What is skewness in a dataset?\n",
        "\n",
        "Ans: Skewness describes the asymmetry of the distribution of data. If you plot your data, skewness tells you if it's lopsided to one side or the other, rather than being perfectly symmetrical like a bell curve."
      ],
      "metadata": {
        "id": "GST0O-o0qe9R"
      }
    },
    {
      "cell_type": "markdown",
      "source": [
        "19. What does it mean if a dataset is positively or negatively skewed?\n",
        "\n",
        "a) Positively skewed (right-skewed): The \"tail\" of the distribution points to the right. This means there are a few very high values that pull the mean to the right of the median. Imagine income data where most people earn a moderate amount, but a few earn extremely high incomes.\n",
        "\n",
        "b) Negatively skewed (left-skewed): The \"tail\" of the distribution points to the left. This means there are a few very low values that pull the mean to the left of the median. Think of test scores where most students did very well, but a few scored very low.\n"
      ],
      "metadata": {
        "id": "2G99IeHzyVIg"
      }
    },
    {
      "cell_type": "markdown",
      "source": [
        "20. Define and explain kurtosis.\n",
        "\n",
        "Ans: Kurtosis describes the \"tailedness\" or peakiness of a distribution. It tells you how many outliers are present and how sharp or flat the peak of the distribution is compared to a normal distribution.\n",
        "\n",
        "a) Leptokurtic: High kurtosis, meaning more data in the tails (more outliers) and a sharper peak.\n",
        "\n",
        "b) Platykurtic: Low kurtosis, meaning fewer data in the tails (fewer outliers) and a flatter peak.\n",
        "\n",
        "c) Mesokurtic: Similar kurtosis to a normal distribution."
      ],
      "metadata": {
        "id": "rzpJKJpPzRPJ"
      }
    },
    {
      "cell_type": "markdown",
      "source": [
        "21. What is the purpose of covariance?\n",
        "\n",
        "Ans: Covariance measures the extent to which two variables change together. If they tend to increase or decrease together, their covariance will be positive. If one increases while the other decreases, it will be negative. If there's no clear relationship, it will be close to zero."
      ],
      "metadata": {
        "id": "tDrUIqdZzlrp"
      }
    },
    {
      "cell_type": "markdown",
      "source": [
        "22. What does correlation measure in statistics?\n",
        "\n",
        "Ans: Correlation measures the strength and direction of a linear relationship between two variables. Unlike covariance, correlation is standardized, so its value always ranges between -1 and +1.\n",
        "\n",
        "a) +1 indicates a perfect positive linear relationship.\n",
        "\n",
        "b) -1 indicates a perfect negative linear relationship.\n",
        "\n",
        "c)  0 indicates no linear relationship."
      ],
      "metadata": {
        "id": "J8DjHM-7zqJ6"
      }
    },
    {
      "cell_type": "markdown",
      "source": [
        "23.What is the difference between covariance and correlation?\n",
        "\n",
        "Ans: Both measure the relationship between two variables, but covariance is not standardized, meaning its value depends on the units of the variables, making it hard to compare across different datasets. Correlation is a standardized version of covariance, making it a more interpretable measure of the strength and direction of the linear relationship, as its value is always between -1 and +1."
      ],
      "metadata": {
        "id": "3DOUncGBz6My"
      }
    },
    {
      "cell_type": "markdown",
      "source": [
        "24. What are some real-world applications of statistics?\n",
        "\n",
        "Ans: Statistics is everywhere!Some Real World applications are mentioned below >>\n",
        "\n",
        "a) Business: Market research, quality control, financial forecasting.\n",
        "\n",
        "b) Healthcare: Clinical trials, disease prevalence studies, drug effectiveness.\n",
        "\n",
        "c) Science: Analyzing experimental data, validating hypotheses.\n",
        "\n",
        "d) Government: Census data, economic indicators, public policy evaluation.\n",
        "\n",
        "e) Sports: Player performance analysis, team strategies."
      ],
      "metadata": {
        "id": "8kSWE2S_0A75"
      }
    },
    {
      "cell_type": "markdown",
      "source": [
        "#Practical Questions\n",
        "---"
      ],
      "metadata": {
        "id": "fmFQkmRf1CUC"
      }
    },
    {
      "cell_type": "markdown",
      "source": [
        "1. How do you calculate the mean, median, and mode of a dataset?\n",
        "\n",
        "Ans:  Use NumPy's mean(), median(), and SciPy's mode()"
      ],
      "metadata": {
        "id": "u7ADdZ9d1FlR"
      }
    },
    {
      "cell_type": "code",
      "source": [
        "import numpy as np\n",
        "from scipy import stats\n",
        "\n",
        "# Sample dataset\n",
        "data = np.array([4, 7, 2, 9, 7, 6, 7, 3])\n",
        "\n",
        "# Mean\n",
        "mean = np.mean(data)\n",
        "\n",
        "# Median\n",
        "median = np.median(data)\n",
        "\n",
        "# Mode (using scipy.stats)\n",
        "mode = stats.mode(data, keepdims=True)  # keepdims=True avoids deprecation warning\n",
        "\n",
        "# Display results\n",
        "print(\"Mean:\", mean)\n",
        "print(\"Median:\", median)\n",
        "print(\"Mode:\", mode.mode[0], \" (appears\", mode.count[0], \"times)\")"
      ],
      "metadata": {
        "colab": {
          "base_uri": "https://localhost:8080/"
        },
        "id": "7Z21iVEG1xQK",
        "outputId": "4a3a6504-4501-4610-92e5-77dd5c9eefee"
      },
      "execution_count": null,
      "outputs": [
        {
          "output_type": "stream",
          "name": "stdout",
          "text": [
            "Mean: 5.625\n",
            "Median: 6.5\n",
            "Mode: 7  (appears 3 times)\n"
          ]
        }
      ]
    },
    {
      "cell_type": "markdown",
      "source": [
        "2. Write a Python program to compute the variance and standard deviation of a dataset.\n",
        "\n",
        "Ans: Use NumPy's var() and std(). Remember to consider ddof=1 for sample variance/standard deviation."
      ],
      "metadata": {
        "id": "vxDB-Q7q2nri"
      }
    },
    {
      "cell_type": "code",
      "source": [
        "import numpy as np\n",
        "\n",
        "data = [10, 12, 15, 11, 13]\n",
        "\n",
        "# Sample variance and standard deviation\n",
        "variance = np.var(data, ddof=1)       # ddof=1 → sample variance\n",
        "std_dev = np.std(data, ddof=1)        # ddof=1 → sample standard deviation\n",
        "\n",
        "print(f\"Variance: {variance}, Standard Deviation: {std_dev}\")"
      ],
      "metadata": {
        "colab": {
          "base_uri": "https://localhost:8080/"
        },
        "id": "Wh4XNsjy3YEE",
        "outputId": "3c2480f1-f59a-4c70-c4f4-3fd98ad00b99"
      },
      "execution_count": null,
      "outputs": [
        {
          "output_type": "stream",
          "name": "stdout",
          "text": [
            "Variance: 3.7, Standard Deviation: 1.9235384061671346\n"
          ]
        }
      ]
    },
    {
      "cell_type": "markdown",
      "source": [
        "3. Create a dataset and classify it into nominal, ordinal, interval, and ratio types."
      ],
      "metadata": {
        "id": "PZFJ-cAZ3djC"
      }
    },
    {
      "cell_type": "code",
      "source": [
        "import pandas as pd\n",
        "\n",
        "# Nominal: Categories with no order\n",
        "colors = ['Red', 'Blue', 'Green', 'Red']\n",
        "\n",
        "# Ordinal: Categories with a meaningful order\n",
        "education_levels = pd.Categorical(\n",
        "    ['High School', 'Bachelor\\'s', 'PhD', 'Master\\'s'],\n",
        "    categories=['High School', 'Bachelor\\'s', 'Master\\'s', 'PhD'],\n",
        "    ordered=True\n",
        ")\n",
        "\n",
        "# Interval: Numeric data without a true zero\n",
        "temperatures_c = [0, 10, 20, 30]\n",
        "\n",
        "# Ratio: Numeric data with a true zero\n",
        "heights_cm = [160, 175, 180, 165]\n",
        "\n",
        "# Output\n",
        "print(\"Nominal Data (Colors):\", colors)\n",
        "print(\"Ordinal Data (Education Levels):\", education_levels)\n",
        "print(\"Interval Data (Temperatures):\", temperatures_c)\n",
        "print(\"Ratio Data (Heights):\", heights_cm)"
      ],
      "metadata": {
        "colab": {
          "base_uri": "https://localhost:8080/"
        },
        "id": "B2c3sucd4C_r",
        "outputId": "e85f62eb-1a59-48a9-8c5a-234aa71855dc"
      },
      "execution_count": null,
      "outputs": [
        {
          "output_type": "stream",
          "name": "stdout",
          "text": [
            "Nominal Data (Colors): ['Red', 'Blue', 'Green', 'Red']\n",
            "Ordinal Data (Education Levels): ['High School', 'Bachelor's', 'PhD', 'Master's']\n",
            "Categories (4, object): ['High School' < 'Bachelor's' < 'Master's' < 'PhD']\n",
            "Interval Data (Temperatures): [0, 10, 20, 30]\n",
            "Ratio Data (Heights): [160, 175, 180, 165]\n"
          ]
        }
      ]
    },
    {
      "cell_type": "markdown",
      "source": [
        "4. Implement sampling techniques like random sampling and stratified sampling."
      ],
      "metadata": {
        "id": "UxZzyXbx4LDE"
      }
    },
    {
      "cell_type": "code",
      "source": [
        "import random\n",
        "import pandas as pd\n",
        "\n",
        "population = list(range(1, 101)) # 100 people\n",
        "# Simple Random Sampling\n",
        "random_sample = random.sample(population, 10)\n",
        "\n",
        "# Stratified Sampling (e.g., gender)\n",
        "data = {'Gender': ['Male'] * 50 + ['Female'] * 50, 'ID': list(range(1, 101))}\n",
        "df = pd.DataFrame(data)\n",
        "male_sample = df[df['Gender'] == 'Male'].sample(5)\n",
        "female_sample = df[df['Gender'] == 'Female'].sample(5)\n",
        "stratified_sample = pd.concat([male_sample, female_sample])\n",
        "\n",
        "print(\"Random Sample:\", random_sample)\n",
        "print(\"Stratified Sample:\\n\", stratified_sample)"
      ],
      "metadata": {
        "colab": {
          "base_uri": "https://localhost:8080/"
        },
        "id": "Lqs2wEGU4Twi",
        "outputId": "1b809064-fda7-45ea-dce3-9d384c46c87e"
      },
      "execution_count": null,
      "outputs": [
        {
          "output_type": "stream",
          "name": "stdout",
          "text": [
            "Random Sample: [37, 7, 38, 50, 1, 61, 29, 39, 91, 98]\n",
            "Stratified Sample:\n",
            "     Gender  ID\n",
            "5     Male   6\n",
            "3     Male   4\n",
            "16    Male  17\n",
            "0     Male   1\n",
            "36    Male  37\n",
            "90  Female  91\n",
            "65  Female  66\n",
            "53  Female  54\n",
            "79  Female  80\n",
            "56  Female  57\n"
          ]
        }
      ]
    },
    {
      "cell_type": "markdown",
      "source": [
        "5. Write a Python function to calculate the range of a dataset."
      ],
      "metadata": {
        "id": "KxlxzZ9Z4sL1"
      }
    },
    {
      "cell_type": "code",
      "source": [
        "def calculate_range(data):\n",
        "    return max(data) - min(data)\n",
        "\n",
        "dataset = [5, 10, 3, 12, 8]\n",
        "data_range = calculate_range(dataset)\n",
        "print(\"Range:\", data_range)"
      ],
      "metadata": {
        "colab": {
          "base_uri": "https://localhost:8080/"
        },
        "id": "vy65fhOb4t1K",
        "outputId": "04b59d4c-14e7-4aec-98b6-e379c8448c40"
      },
      "execution_count": null,
      "outputs": [
        {
          "output_type": "stream",
          "name": "stdout",
          "text": [
            "Range: 9\n"
          ]
        }
      ]
    },
    {
      "cell_type": "markdown",
      "source": [
        "6. Create a dataset and plot its histogram to visualize skewness."
      ],
      "metadata": {
        "id": "ZNOxURIB41wT"
      }
    },
    {
      "cell_type": "code",
      "source": [
        "import matplotlib.pyplot as plt\n",
        "import numpy as np\n",
        "\n",
        "# Positively skewed data (e.g., exponential distribution)\n",
        "data_positive_skew = np.random.exponential(scale=2, size=1000)\n",
        "plt.hist(data_positive_skew, bins=30, edgecolor='black')\n",
        "plt.title('Histogram of Positively Skewed Data')\n",
        "plt.xlabel('Value')\n",
        "plt.ylabel('Frequency')\n",
        "plt.show()\n",
        "\n",
        "# Negatively skewed data (e.g., reflected exponential)\n",
        "data_negative_skew = -np.random.exponential(scale=2, size=1000) + 10\n",
        "plt.hist(data_negative_skew, bins=30, edgecolor='black')\n",
        "plt.title('Histogram of Negatively Skewed Data')\n",
        "plt.xlabel('Value')\n",
        "plt.ylabel('Frequency')\n",
        "plt.show()"
      ],
      "metadata": {
        "colab": {
          "base_uri": "https://localhost:8080/",
          "height": 927
        },
        "id": "5QjTm86T43dS",
        "outputId": "724dd3fe-9059-4730-870c-5293838ee117"
      },
      "execution_count": null,
      "outputs": [
        {
          "output_type": "display_data",
          "data": {
            "text/plain": [
              "<Figure size 640x480 with 1 Axes>"
            ],
            "image/png": "[encoded data removed]"
          },
          "metadata": {}
        },
        {
          "output_type": "display_data",
          "data": {
            "text/plain": [
              "<Figure size 640x480 with 1 Axes>"
            ],
            "image/png": "[encoded data removed]"
          },
          "metadata": {}
        }
      ]
    },
    {
      "cell_type": "markdown",
      "source": [
        "7. Calculate skewness and kurtosis of a dataset using Python libraries."
      ],
      "metadata": {
        "id": "g9u5qmuU5t47"
      }
    },
    {
      "cell_type": "code",
      "source": [
        "from scipy.stats import skew, kurtosis\n",
        "import numpy as np\n",
        "\n",
        "data = np.random.normal(loc=0, scale=1, size=1000) # Normal distribution\n",
        "skewness_val = skew(data)\n",
        "kurtosis_val = kurtosis(data)\n",
        "print(f\"Skewness: {skewness_val}, Kurtosis: {kurtosis_val}\")\n",
        "\n",
        "# Example with skewed data\n",
        "data_skewed = np.random.exponential(scale=2, size=1000)\n",
        "skewness_skewed = skew(data_skewed)\n",
        "kurtosis_skewed = kurtosis(data_skewed)\n",
        "print(f\"Skewness (Skewed Data): {skewness_skewed}, Kurtosis (Skewed Data): {kurtosis_skewed}\")"
      ],
      "metadata": {
        "colab": {
          "base_uri": "https://localhost:8080/"
        },
        "id": "Zd8zgovj5zsC",
        "outputId": "ca246427-13df-4836-d97f-635faf72c66d"
      },
      "execution_count": null,
      "outputs": [
        {
          "output_type": "stream",
          "name": "stdout",
          "text": [
            "Skewness: 0.1279764547756998, Kurtosis: -0.0652821823141374\n",
            "Skewness (Skewed Data): 2.128893041967493, Kurtosis (Skewed Data): 6.841347514930465\n"
          ]
        }
      ]
    },
    {
      "cell_type": "markdown",
      "source": [
        "8. Generate a dataset and demonstrate positive and negative skewness."
      ],
      "metadata": {
        "id": "Gegx-JXw6Q9b"
      }
    },
    {
      "cell_type": "code",
      "source": [
        "import numpy as np\n",
        "import matplotlib.pyplot as plt\n",
        "import seaborn as sns\n",
        "from scipy.stats import skew\n",
        "\n",
        "# Generate positively skewed data (Exponential distribution)\n",
        "data_pos_skew = np.random.exponential(scale=2, size=1000)\n",
        "skew_pos = skew(data_pos_skew)\n",
        "\n",
        "# Generate negatively skewed data by reflecting exponential and shifting\n",
        "data_neg_skew = -np.random.exponential(scale=2, size=1000) + 10\n",
        "skew_neg = skew(data_neg_skew)\n",
        "\n",
        "# Plot both distributions side by side\n",
        "fig, axs = plt.subplots(1, 2, figsize=(14, 5))\n",
        "\n",
        "# Positive skew\n",
        "sns.histplot(data_pos_skew, bins=30, kde=True, ax=axs[0], color='skyblue', edgecolor='black')\n",
        "axs[0].set_title(f'Positively Skewed Data (Skewness = {skew_pos:.2f})')\n",
        "axs[0].set_xlabel('Value')\n",
        "axs[0].set_ylabel('Frequency')\n",
        "\n",
        "# Negative skew\n",
        "sns.histplot(data_neg_skew, bins=30, kde=True, ax=axs[1], color='lightcoral', edgecolor='black')\n",
        "axs[1].set_title(f'Negatively Skewed Data (Skewness = {skew_neg:.2f})')\n",
        "axs[1].set_xlabel('Value')\n",
        "axs[1].set_ylabel('Frequency')\n",
        "\n",
        "plt.tight_layout()\n",
        "plt.show()"
      ],
      "metadata": {
        "colab": {
          "base_uri": "https://localhost:8080/",
          "height": 507
        },
        "id": "2QVBGS1d6SMK",
        "outputId": "e47da309-bf96-4f5e-8380-15c1b97fbd8b"
      },
      "execution_count": null,
      "outputs": [
        {
          "output_type": "display_data",
          "data": {
            "text/plain": [
              "<Figure size 1400x500 with 2 Axes>"
            ],
            "image/png": "[encoded data removed]"
          },
          "metadata": {}
        }
      ]
    },
    {
      "cell_type": "markdown",
      "source": [
        "9. Write a Python script to calculate covariance between two datasets."
      ],
      "metadata": {
        "id": "bApsYFwS7peb"
      }
    },
    {
      "cell_type": "code",
      "source": [
        "import numpy as np\n",
        "import pandas as pd\n",
        "\n",
        "data1 = [1, 2, 3, 4, 5]\n",
        "data2 = [2, 4, 5, 4, 6]\n",
        "\n",
        "# Using NumPy\n",
        "covariance_matrix = np.cov(data1, data2)\n",
        "covariance_val = covariance_matrix[0, 1] # Extract the covariance value\n",
        "\n",
        "# Using Pandas\n",
        "df = pd.DataFrame({'A': data1, 'B': data2})\n",
        "covariance_df = df.cov().iloc[0, 1]\n",
        "\n",
        "print(f\"Covariance (NumPy): {covariance_val}\")\n",
        "print(f\"Covariance (Pandas): {covariance_df}\")"
      ],
      "metadata": {
        "colab": {
          "base_uri": "https://localhost:8080/"
        },
        "id": "VUyM4EeX7rdT",
        "outputId": "56ea33aa-83e9-41c2-be9f-f20c8c8a84a9"
      },
      "execution_count": null,
      "outputs": [
        {
          "output_type": "stream",
          "name": "stdout",
          "text": [
            "Covariance (NumPy): 2.0\n",
            "Covariance (Pandas): 2.0\n"
          ]
        }
      ]
    },
    {
      "cell_type": "markdown",
      "source": [
        "10. Write a Python script to calculate the correlation coefficient between two datasets."
      ],
      "metadata": {
        "id": "tY3m1p8Q77XU"
      }
    },
    {
      "cell_type": "code",
      "source": [
        "import numpy as np\n",
        "import pandas as pd\n",
        "\n",
        "data1 = [1, 2, 3, 4, 5]\n",
        "data2 = [2, 4, 5, 4, 6]\n",
        "\n",
        "# Using NumPy (Pearson correlation)\n",
        "correlation_matrix = np.corrcoef(data1, data2)\n",
        "correlation_val = correlation_matrix[0, 1]\n",
        "\n",
        "# Using Pandas (Pearson correlation by default)\n",
        "df = pd.DataFrame({'A': data1, 'B': data2})\n",
        "correlation_df = df.corr().iloc[0, 1]\n",
        "\n",
        "print(f\"Correlation Coefficient (NumPy): {correlation_val}\")\n",
        "print(f\"Correlation Coefficient (Pandas): {correlation_df}\")"
      ],
      "metadata": {
        "colab": {
          "base_uri": "https://localhost:8080/"
        },
        "id": "6e-GLMZz78sz",
        "outputId": "7e444b6e-bbd3-4ead-f26a-d24e11c20697"
      },
      "execution_count": null,
      "outputs": [
        {
          "output_type": "stream",
          "name": "stdout",
          "text": [
            "Correlation Coefficient (NumPy): 0.8528028654224418\n",
            "Correlation Coefficient (Pandas): 0.8528028654224417\n"
          ]
        }
      ]
    },
    {
      "cell_type": "markdown",
      "source": [
        "11. Create a scatter plot to visualize the relationship between two variables."
      ],
      "metadata": {
        "id": "EuvCTW7L8HuL"
      }
    },
    {
      "cell_type": "code",
      "source": [
        "import matplotlib.pyplot as plt\n",
        "import numpy as np\n",
        "\n",
        "x = np.array([1, 2, 3, 4, 5])\n",
        "y = np.array([2, 4, 5, 4, 6])\n",
        "\n",
        "plt.scatter(x, y)\n",
        "plt.title('Scatter Plot of X vs Y')\n",
        "plt.xlabel('X-axis')\n",
        "plt.ylabel('Y-axis')\n",
        "plt.grid(True)\n",
        "plt.show()"
      ],
      "metadata": {
        "colab": {
          "base_uri": "https://localhost:8080/",
          "height": 472
        },
        "id": "-o5FN_Si8Bh0",
        "outputId": "04c1ff11-8ab7-44d5-c656-364cde90272d"
      },
      "execution_count": null,
      "outputs": [
        {
          "output_type": "display_data",
          "data": {
            "text/plain": [
              "<Figure size 640x480 with 1 Axes>"
            ],
            "image/png": "[encoded data removed]"
          },
          "metadata": {}
        }
      ]
    },
    {
      "cell_type": "markdown",
      "source": [
        "12. Implement and compare simple random sampling and systematic sampling."
      ],
      "metadata": {
        "id": "YoAHLrTy8UuE"
      }
    },
    {
      "cell_type": "code",
      "source": [
        "import random\n",
        "\n",
        "population_size = 100\n",
        "population = list(range(1, population_size + 1))\n",
        "sample_size = 10\n",
        "\n",
        "# Simple Random Sampling\n",
        "simple_random_sample = random.sample(population, sample_size)\n",
        "print(\"Simple Random Sample:\", simple_random_sample)\n",
        "\n",
        "# Systematic Sampling\n",
        "k = population_size // sample_size\n",
        "start_index = random.randint(0, k - 1)\n",
        "systematic_sample = [population[i] for i in range(start_index, population_size, k)][:sample_size]\n",
        "print(\"Systematic Sample:\", systematic_sample)\n",
        "\n",
        "# Comparison discussion:\n",
        "# Simple random sampling is truly random. Systematic sampling is easier to implement\n",
        "# but can be biased if there's a pattern in the population that aligns with k."
      ],
      "metadata": {
        "colab": {
          "base_uri": "https://localhost:8080/"
        },
        "id": "yzkcfCj38PbW",
        "outputId": "3b09782d-c7cb-4bfc-bd07-090c36c009ac"
      },
      "execution_count": null,
      "outputs": [
        {
          "output_type": "stream",
          "name": "stdout",
          "text": [
            "Simple Random Sample: [76, 80, 71, 7, 81, 63, 5, 65, 47, 3]\n",
            "Systematic Sample: [1, 11, 21, 31, 41, 51, 61, 71, 81, 91]\n"
          ]
        }
      ]
    },
    {
      "cell_type": "markdown",
      "source": [
        "13.Calculate the mean, median, and mode of grouped data."
      ],
      "metadata": {
        "id": "eHEMFGFo8mRj"
      }
    },
    {
      "cell_type": "code",
      "source": [
        "import numpy as np\n",
        "\n",
        "# Grouped data\n",
        "class_intervals = [(10, 20), (20, 30), (30, 40), (40, 50), (50, 60)]\n",
        "frequencies = [5, 8, 12, 7, 3]\n",
        "\n",
        "# Midpoints\n",
        "midpoints = [(low + high) / 2 for (low, high) in class_intervals]\n",
        "\n",
        "# Total frequency\n",
        "N = sum(frequencies)\n",
        "\n",
        "# Mean\n",
        "mean = sum(f * x for f, x in zip(frequencies, midpoints)) / N\n",
        "\n",
        "# Cumulative frequency\n",
        "cum_freq = np.cumsum(frequencies)\n",
        "\n",
        "# Median\n",
        "median_pos = N / 2\n",
        "median_class_index = np.where(cum_freq >= median_pos)[0][0]\n",
        "L = class_intervals[median_class_index][0]  # lower boundary of median class\n",
        "F = cum_freq[median_class_index - 1] if median_class_index > 0 else 0\n",
        "f_m = frequencies[median_class_index]\n",
        "h = class_intervals[0][1] - class_intervals[0][0]  # class width\n",
        "median = L + ((median_pos - F) / f_m) * h\n",
        "\n",
        "# Mode\n",
        "modal_class_index = np.argmax(frequencies)\n",
        "L_mode = class_intervals[modal_class_index][0]\n",
        "f1 = frequencies[modal_class_index]\n",
        "f0 = frequencies[modal_class_index - 1] if modal_class_index > 0 else 0\n",
        "f2 = frequencies[modal_class_index + 1] if modal_class_index < len(frequencies) - 1 else 0\n",
        "mode = L_mode + ((f1 - f0) / (2 * f1 - f0 - f2)) * h\n",
        "\n",
        "print(f\"Mean: {mean}\")\n",
        "print(f\"Median: {median}\")\n",
        "print(f\"Mode: {mode}\")"
      ],
      "metadata": {
        "colab": {
          "base_uri": "https://localhost:8080/"
        },
        "id": "coXLZ41i8bHT",
        "outputId": "5ac8bbcd-aa54-4247-e20f-bbe34ec606e0"
      },
      "execution_count": null,
      "outputs": [
        {
          "output_type": "stream",
          "name": "stdout",
          "text": [
            "Mean: 33.57142857142857\n",
            "Median: 33.75\n",
            "Mode: 34.44444444444444\n"
          ]
        }
      ]
    },
    {
      "cell_type": "markdown",
      "source": [
        "14. Simulate data using Python and calculate its central tendency and dispersion."
      ],
      "metadata": {
        "id": "tIVG8V219RAF"
      }
    },
    {
      "cell_type": "code",
      "source": [
        "import numpy as np\n",
        "from scipy import stats\n",
        "\n",
        "# Simulate data: normal distribution with mean=100, std=15, size=500\n",
        "data = np.random.normal(loc=100, scale=15, size=500)\n",
        "\n",
        "# Central Tendency\n",
        "mean_val = np.mean(data)\n",
        "median_val = np.median(data)\n",
        "mode_val = stats.mode(data, keepdims=True).mode[0]  # Mode might be less meaningful for continuous data\n",
        "\n",
        "# Dispersion\n",
        "variance_val = np.var(data, ddof=1)  # Sample variance\n",
        "std_dev_val = np.std(data, ddof=1)   # Sample standard deviation\n",
        "\n",
        "print(f\"Mean: {mean_val:.2f}\")\n",
        "print(f\"Median: {median_val:.2f}\")\n",
        "print(f\"Mode: {mode_val:.2f}  (may not be meaningful for continuous data)\")\n",
        "print(f\"Variance: {variance_val:.2f}\")\n",
        "print(f\"Standard Deviation: {std_dev_val:.2f}\")\n"
      ],
      "metadata": {
        "colab": {
          "base_uri": "https://localhost:8080/"
        },
        "id": "HXfGgFIt9Uor",
        "outputId": "b4fa8773-da54-43fc-fa92-5002455af648"
      },
      "execution_count": null,
      "outputs": [
        {
          "output_type": "stream",
          "name": "stdout",
          "text": [
            "Mean: 99.85\n",
            "Median: 99.68\n",
            "Mode: 53.24  (may not be meaningful for continuous data)\n",
            "Variance: 223.77\n",
            "Standard Deviation: 14.96\n"
          ]
        }
      ]
    },
    {
      "cell_type": "markdown",
      "source": [
        "15. Use NumPy or pandas to summarize a dataset's descriptive statistics."
      ],
      "metadata": {
        "id": "KEp2asNX9-f7"
      }
    },
    {
      "cell_type": "code",
      "source": [
        "#Using Pandas\n",
        "import pandas as pd\n",
        "data = {'A': [10, 12, 15, 11, 13],\n",
        "        'B': [20, 22, 21, 23, 19]}\n",
        "df = pd.DataFrame(data)\n",
        "print(df.describe())"
      ],
      "metadata": {
        "colab": {
          "base_uri": "https://localhost:8080/"
        },
        "id": "5wl8ntrg92wc",
        "outputId": "7c6bc8d9-e1de-44da-a868-49deecf2bae1"
      },
      "execution_count": null,
      "outputs": [
        {
          "output_type": "stream",
          "name": "stdout",
          "text": [
            "               A          B\n",
            "count   5.000000   5.000000\n",
            "mean   12.200000  21.000000\n",
            "std     1.923538   1.581139\n",
            "min    10.000000  19.000000\n",
            "25%    11.000000  20.000000\n",
            "50%    12.000000  21.000000\n",
            "75%    13.000000  22.000000\n",
            "max    15.000000  23.000000\n"
          ]
        }
      ]
    },
    {
      "cell_type": "code",
      "source": [
        "#Using Numpy\n",
        "import numpy as np\n",
        "\n",
        "data = {\n",
        "    'A': np.array([10, 12, 15, 11, 13]),\n",
        "    'B': np.array([20, 22, 21, 23, 19])\n",
        "}\n",
        "\n",
        "for col, values in data.items():\n",
        "    count = len(values)\n",
        "    mean = np.mean(values)\n",
        "    std = np.std(values, ddof=1)          # Sample standard deviation\n",
        "    minimum = np.min(values)\n",
        "    q1 = np.percentile(values, 25)\n",
        "    median = np.median(values)\n",
        "    q3 = np.percentile(values, 75)\n",
        "    maximum = np.max(values)\n",
        "\n",
        "    print(f\"Column {col}:\")\n",
        "    print(f\"Count: {count}\")\n",
        "    print(f\"Mean: {mean}\")\n",
        "    print(f\"Std: {std}\")\n",
        "    print(f\"Min: {minimum}\")\n",
        "    print(f\"25%: {q1}\")\n",
        "    print(f\"50% (Median): {median}\")\n",
        "    print(f\"75%: {q3}\")\n",
        "    print(f\"Max: {maximum}\")\n",
        "    print()"
      ],
      "metadata": {
        "colab": {
          "base_uri": "https://localhost:8080/"
        },
        "id": "mxPZ0uHw-OX0",
        "outputId": "b80eb3be-0635-4629-a766-a0cd9e669570"
      },
      "execution_count": null,
      "outputs": [
        {
          "output_type": "stream",
          "name": "stdout",
          "text": [
            "Column A:\n",
            "Count: 5\n",
            "Mean: 12.2\n",
            "Std: 1.9235384061671346\n",
            "Min: 10\n",
            "25%: 11.0\n",
            "50% (Median): 12.0\n",
            "75%: 13.0\n",
            "Max: 15\n",
            "\n",
            "Column B:\n",
            "Count: 5\n",
            "Mean: 21.0\n",
            "Std: 1.5811388300841898\n",
            "Min: 19\n",
            "25%: 20.0\n",
            "50% (Median): 21.0\n",
            "75%: 22.0\n",
            "Max: 23\n",
            "\n"
          ]
        }
      ]
    },
    {
      "cell_type": "markdown",
      "source": [
        "16. Plot a boxplot to understand the spread and identify outliers."
      ],
      "metadata": {
        "id": "zwJQ43tE-zpL"
      }
    },
    {
      "cell_type": "code",
      "source": [
        "import seaborn as sns\n",
        "import matplotlib.pyplot as plt\n",
        "import numpy as np\n",
        "\n",
        "data_with_outliers = np.append(np.random.normal(loc=10, scale=2, size=50), [25, -5])\n",
        "sns.boxplot(data_with_outliers)\n",
        "plt.title('Box Plot with Outliers')\n",
        "plt.show()"
      ],
      "metadata": {
        "colab": {
          "base_uri": "https://localhost:8080/",
          "height": 433
        },
        "id": "RnmvzlJn-1Zr",
        "outputId": "14d716cc-364d-4696-d875-1e8432f54ac0"
      },
      "execution_count": null,
      "outputs": [
        {
          "output_type": "display_data",
          "data": {
            "text/plain": [
              "<Figure size 640x480 with 1 Axes>"
            ],
            "image/png": "[encoded data removed]"
          },
          "metadata": {}
        }
      ]
    },
    {
      "cell_type": "markdown",
      "source": [
        "17. Calculate the interquartile range (IQR) of a dataset."
      ],
      "metadata": {
        "id": "sZdpMavi-9h0"
      }
    },
    {
      "cell_type": "code",
      "source": [
        "import numpy as np\n",
        "data = [1, 2, 3, 4, 5, 6, 7, 8, 9, 10]\n",
        "q1 = np.percentile(data, 25)\n",
        "q3 = np.percentile(data, 75)\n",
        "iqr = q3 - q1\n",
        "print(\"IQR:\", iqr)"
      ],
      "metadata": {
        "colab": {
          "base_uri": "https://localhost:8080/"
        },
        "id": "dlCKyC8d--08",
        "outputId": "69fba993-6145-4ea8-f69b-e2cf4ce9ecb0"
      },
      "execution_count": null,
      "outputs": [
        {
          "output_type": "stream",
          "name": "stdout",
          "text": [
            "IQR: 4.5\n"
          ]
        }
      ]
    },
    {
      "cell_type": "markdown",
      "source": [
        "18.Implement Z-score normalization and explain its significance."
      ],
      "metadata": {
        "id": "MvU-uq6cAnWs"
      }
    },
    {
      "cell_type": "code",
      "source": [
        "import numpy as np\n",
        "data = np.array([10, 20, 30, 40, 50])\n",
        "mean = np.mean(data)\n",
        "std_dev = np.std(data)\n",
        "z_scores = (data - mean) / std_dev\n",
        "print(\"Original Data:\", data)\n",
        "print(\"Z-Scores:\", z_scores)\n",
        "# Significance: Allows comparison of values from different scales.\n",
        "# A Z-score of 1 means the data point is 1 standard deviation above the mean."
      ],
      "metadata": {
        "colab": {
          "base_uri": "https://localhost:8080/"
        },
        "id": "vogfydsDAonk",
        "outputId": "2b2c4bb9-3d2a-445a-fa6a-218e22938070"
      },
      "execution_count": null,
      "outputs": [
        {
          "output_type": "stream",
          "name": "stdout",
          "text": [
            "Original Data: [10 20 30 40 50]\n",
            "Z-Scores: [-1.41421356 -0.70710678  0.          0.70710678  1.41421356]\n"
          ]
        }
      ]
    },
    {
      "cell_type": "markdown",
      "source": [
        "19. Compare two datasets using their standard deviations."
      ],
      "metadata": {
        "id": "0-t2VJ99BC60"
      }
    },
    {
      "cell_type": "code",
      "source": [
        "import numpy as np\n",
        "dataset1 = [10, 11, 10, 9, 10]\n",
        "dataset2 = [5, 15, 2, 18, 10]\n",
        "\n",
        "std_dev1 = np.std(dataset1)\n",
        "std_dev2 = np.std(dataset2)\n",
        "\n",
        "print(f\"Std Dev Dataset 1: {std_dev1:.2f}\")\n",
        "print(f\"Std Dev Dataset 2: {std_dev2:.2f}\")\n",
        "if std_dev1 < std_dev2:\n",
        "    print(\"Dataset 1 is less spread out than Dataset 2.\")\n",
        "else:\n",
        "    print(\"Dataset 2 is less spread out than Dataset 1.\")"
      ],
      "metadata": {
        "colab": {
          "base_uri": "https://localhost:8080/"
        },
        "id": "b3XvFYiLBF0U",
        "outputId": "dad7c484-ddca-4adf-fb31-ad89594ac34b"
      },
      "execution_count": null,
      "outputs": [
        {
          "output_type": "stream",
          "name": "stdout",
          "text": [
            "Std Dev Dataset 1: 0.63\n",
            "Std Dev Dataset 2: 5.97\n",
            "Dataset 1 is less spread out than Dataset 2.\n"
          ]
        }
      ]
    },
    {
      "cell_type": "markdown",
      "source": [
        "20. Write a Python program to visualize covariance using a heatmap."
      ],
      "metadata": {
        "id": "JDyDsjC0BZM9"
      }
    },
    {
      "cell_type": "code",
      "source": [
        "import pandas as pd\n",
        "import seaborn as sns\n",
        "import matplotlib.pyplot as plt\n",
        "\n",
        "data = {'A': [1, 2, 3, 4, 5],\n",
        "        'B': [2, 4, 5, 4, 6],\n",
        "        'C': [5, 4, 3, 2, 1]}\n",
        "df = pd.DataFrame(data)\n",
        "\n",
        "covariance_matrix = df.cov()\n",
        "sns.heatmap(covariance_matrix, annot=True, cmap='coolwarm')\n",
        "plt.title('Covariance Heatmap')\n",
        "plt.show()"
      ],
      "metadata": {
        "colab": {
          "base_uri": "https://localhost:8080/",
          "height": 452
        },
        "id": "8-NoEN5zBcXU",
        "outputId": "9ede06da-8b3e-4461-db1a-669ee25eb70e"
      },
      "execution_count": null,
      "outputs": [
        {
          "output_type": "display_data",
          "data": {
            "text/plain": [
              "<Figure size 640x480 with 2 Axes>"
            ],
            "image/png": "[encoded data removed]"
          },
          "metadata": {}
        }
      ]
    },
    {
      "cell_type": "markdown",
      "source": [
        "21. Use seaborn to create a correlation matrix for a dataset."
      ],
      "metadata": {
        "id": "VvbgMReEBj3N"
      }
    },
    {
      "cell_type": "code",
      "source": [
        "import pandas as pd\n",
        "import seaborn as sns\n",
        "import matplotlib.pyplot as plt\n",
        "\n",
        "data = {'A': [1, 2, 3, 4, 5],\n",
        "        'B': [2, 4, 5, 4, 6],\n",
        "        'C': [5, 4, 3, 2, 1]}\n",
        "df = pd.DataFrame(data)\n",
        "\n",
        "correlation_matrix = df.corr()\n",
        "sns.heatmap(correlation_matrix, annot=True, cmap='coolwarm')\n",
        "plt.title('Correlation Matrix Heatmap')\n",
        "plt.show()"
      ],
      "metadata": {
        "colab": {
          "base_uri": "https://localhost:8080/",
          "height": 452
        },
        "id": "On25CsbVBm5V",
        "outputId": "51cf2144-3f4b-45f8-9a3a-f659cd16cb80"
      },
      "execution_count": null,
      "outputs": [
        {
          "output_type": "display_data",
          "data": {
            "text/plain": [
              "<Figure size 640x480 with 2 Axes>"
            ],
            "image/png": "[encoded data removed]"
          },
          "metadata": {}
        }
      ]
    },
    {
      "cell_type": "markdown",
      "source": [
        "22. Generate a dataset and implement both variance and standard deviation computations."
      ],
      "metadata": {
        "id": "YJzt33UCBzI3"
      }
    },
    {
      "cell_type": "code",
      "source": [
        "import numpy as np\n",
        "\n",
        "# Generate a dataset of 100 random numbers from a normal distribution\n",
        "data = np.random.normal(loc=50, scale=10, size=100)\n",
        "\n",
        "# Population variance and standard deviation (ddof=0)\n",
        "pop_variance = np.var(data, ddof=0)\n",
        "pop_std_dev = np.std(data, ddof=0)\n",
        "\n",
        "# Sample variance and standard deviation (ddof=1)\n",
        "sample_variance = np.var(data, ddof=1)\n",
        "sample_std_dev = np.std(data, ddof=1)\n",
        "\n",
        "print(f\"Population Variance: {pop_variance:.2f}\")\n",
        "print(f\"Population Standard Deviation: {pop_std_dev:.2f}\")\n",
        "print(f\"Sample Variance: {sample_variance:.2f}\")\n",
        "print(f\"Sample Standard Deviation: {sample_std_dev:.2f}\")\n"
      ],
      "metadata": {
        "colab": {
          "base_uri": "https://localhost:8080/"
        },
        "id": "4wqKJex9B1r7",
        "outputId": "c1dc524b-17ee-41fa-b2de-d988af78865f"
      },
      "execution_count": null,
      "outputs": [
        {
          "output_type": "stream",
          "name": "stdout",
          "text": [
            "Population Variance: 118.22\n",
            "Population Standard Deviation: 10.87\n",
            "Sample Variance: 119.42\n",
            "Sample Standard Deviation: 10.93\n"
          ]
        }
      ]
    },
    {
      "cell_type": "markdown",
      "source": [
        "23. Visualize skewness and kurtosis using Python libraries like matplotlib or seaborn."
      ],
      "metadata": {
        "id": "ffzIsCfCCUBO"
      }
    },
    {
      "cell_type": "code",
      "source": [
        "import seaborn as sns\n",
        "import matplotlib.pyplot as plt\n",
        "import numpy as np\n",
        "\n",
        "data_positive_skew = np.random.exponential(scale=2, size=1000)\n",
        "sns.histplot(data_positive_skew, kde=True)\n",
        "plt.title('Distribution with Positive Skewness (Histogram & KDE)')\n",
        "plt.show()"
      ],
      "metadata": {
        "colab": {
          "base_uri": "https://localhost:8080/",
          "height": 452
        },
        "id": "kPECF-m-CW8U",
        "outputId": "ad33a03f-0934-41bc-d97e-fc62cbdfde38"
      },
      "execution_count": null,
      "outputs": [
        {
          "output_type": "display_data",
          "data": {
            "text/plain": [
              "<Figure size 640x480 with 1 Axes>"
            ],
            "image/png": "[encoded data removed]"
          },
          "metadata": {}
        }
      ]
    },
    {
      "cell_type": "markdown",
      "source": [
        "24. Implement the Pearson and Spearman correlation coefficients for a dataset."
      ],
      "metadata": {
        "id": "k6TAP7mtCpEm"
      }
    },
    {
      "cell_type": "code",
      "source": [
        "from scipy.stats import pearsonr, spearmanr\n",
        "import numpy as np\n",
        "\n",
        "x = np.array([1, 2, 3, 4, 5])\n",
        "y_linear = np.array([2, 4, 6, 8, 10]) # Strong linear\n",
        "y_monotonic = np.array([1, 5, 2, 8, 3]) # Not linear, but generally increasing\n",
        "\n",
        "pearson_corr, _ = pearsonr(x, y_linear)\n",
        "spearman_corr_linear, _ = spearmanr(x, y_linear)\n",
        "\n",
        "spearman_corr_monotonic, _ = spearmanr(x, y_monotonic)\n",
        "pearson_corr_monotonic, _ = pearsonr(x, y_monotonic) # Will be lower than Spearman\n",
        "\n",
        "print(f\"Pearson (linear): {pearson_corr:.2f}, Spearman (linear): {spearman_corr_linear:.2f}\")\n",
        "print(f\"Pearson (monotonic): {pearson_corr_monotonic:.2f}, Spearman (monotonic): {spearman_corr_monotonic:.2f}\")"
      ],
      "metadata": {
        "colab": {
          "base_uri": "https://localhost:8080/"
        },
        "id": "Gql7_RM6CsxN",
        "outputId": "a5d656eb-9e49-47a9-8f6b-f7ee9f7b2003"
      },
      "execution_count": null,
      "outputs": [
        {
          "output_type": "stream",
          "name": "stdout",
          "text": [
            "Pearson (linear): 1.00, Spearman (linear): 1.00\n",
            "Pearson (monotonic): 0.40, Spearman (monotonic): 0.50\n"
          ]
        }
      ]
    },
    {
      "cell_type": "markdown",
      "source": [
        "---"
      ],
      "metadata": {
        "id": "ttEHDe0yDutF"
      }
    }
  ]
}